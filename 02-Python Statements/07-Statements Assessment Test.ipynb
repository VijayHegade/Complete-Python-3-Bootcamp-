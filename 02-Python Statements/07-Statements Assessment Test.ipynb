{
 "cells": [
  {
   "cell_type": "markdown",
   "metadata": {
    "collapsed": true
   },
   "source": [
    "# Statements Assessment Test\n",
    "Let's test your knowledge!"
   ]
  },
  {
   "cell_type": "markdown",
   "metadata": {},
   "source": [
    "_____\n",
    "**Use <code>for</code>, .split(), and <code>if</code> to create a Statement that will print out words that start with 's':**"
   ]
  },
  {
   "cell_type": "code",
   "execution_count": 1,
   "metadata": {},
   "outputs": [],
   "source": [
    "st = 'Print only the words that start with s in this sentence'"
   ]
  },
  {
   "cell_type": "code",
   "execution_count": 8,
   "metadata": {},
   "outputs": [
    {
     "name": "stdout",
     "output_type": "stream",
     "text": [
      "start\n",
      "s\n",
      "sentence\n"
     ]
    },
    {
     "data": {
      "text/plain": [
       "['start', 's', 'sentence']"
      ]
     },
     "execution_count": 8,
     "metadata": {},
     "output_type": "execute_result"
    }
   ],
   "source": [
    "#Code here\n",
    "mylist1 = []\n",
    "listofwords = st.split(\" \")\n",
    "for item in listofwords:\n",
    "    if(item[0]=='s'):\n",
    "        print(item)\n",
    "        mylist1.append(item)\n",
    "        \n",
    "mylist1"
   ]
  },
  {
   "cell_type": "code",
   "execution_count": 9,
   "metadata": {},
   "outputs": [
    {
     "data": {
      "text/plain": [
       "['start', 's', 'sentence']"
      ]
     },
     "execution_count": 9,
     "metadata": {},
     "output_type": "execute_result"
    }
   ],
   "source": [
    "#with List comphrehension method\n",
    "mylist2 = []\n",
    "listofwords2 = st.split(\" \")\n",
    "mylist2 = [item for item in listofwords2 if (item[0]=='s')]\n",
    "mylist2\n"
   ]
  },
  {
   "cell_type": "markdown",
   "metadata": {},
   "source": [
    "______\n",
    "**Use range() to print all the even numbers from 0 to 10.**"
   ]
  },
  {
   "cell_type": "code",
   "execution_count": 10,
   "metadata": {},
   "outputs": [
    {
     "name": "stdout",
     "output_type": "stream",
     "text": [
      "0\n",
      "2\n",
      "4\n",
      "6\n",
      "8\n",
      "10\n"
     ]
    }
   ],
   "source": [
    "#Code Here\n",
    "for num in range(0,11):\n",
    "    if(num%2==0):\n",
    "        print(num)"
   ]
  },
  {
   "cell_type": "markdown",
   "metadata": {},
   "source": [
    "___\n",
    "**Use a List Comprehension to create a list of all numbers between 1 and 50 that are divisible by 3.**"
   ]
  },
  {
   "cell_type": "code",
   "execution_count": 11,
   "metadata": {},
   "outputs": [
    {
     "data": {
      "text/plain": [
       "[3, 6, 9, 12, 15, 18, 21, 24, 27, 30, 33, 36, 39, 42, 45, 48]"
      ]
     },
     "execution_count": 11,
     "metadata": {},
     "output_type": "execute_result"
    }
   ],
   "source": [
    "#Code in this cell\n",
    "multiples_of_3 = [num for num in range(1,50) if(num%3 == 0)]\n",
    "multiples_of_3"
   ]
  },
  {
   "cell_type": "markdown",
   "metadata": {},
   "source": [
    "_____\n",
    "**Go through the string below and if the length of a word is even print \"even!\"**"
   ]
  },
  {
   "cell_type": "code",
   "execution_count": 14,
   "metadata": {},
   "outputs": [],
   "source": [
    "st = 'Print every word in this sentence that has an even number of letters'"
   ]
  },
  {
   "cell_type": "code",
   "execution_count": 15,
   "metadata": {},
   "outputs": [
    {
     "name": "stdout",
     "output_type": "stream",
     "text": [
      "word\n",
      "even!\n",
      "in\n",
      "even!\n",
      "this\n",
      "even!\n",
      "sentence\n",
      "even!\n",
      "that\n",
      "even!\n",
      "an\n",
      "even!\n",
      "even\n",
      "even!\n",
      "number\n",
      "even!\n",
      "of\n",
      "even!\n"
     ]
    }
   ],
   "source": [
    "#Code in this cell\n",
    "list_of_words = st.split(' ')\n",
    "for _word in list_of_words:\n",
    "    if(len(_word)%2==0):\n",
    "        print(_word)\n",
    "        print(\"even!\")"
   ]
  },
  {
   "cell_type": "markdown",
   "metadata": {},
   "source": [
    "____\n",
    "**Write a program that prints the integers from 1 to 100. But for multiples of three print \"Fizz\" instead of the number, and for the multiples of five print \"Buzz\". For numbers which are multiples of both three and five print \"FizzBuzz\".**"
   ]
  },
  {
   "cell_type": "code",
   "execution_count": 17,
   "metadata": {},
   "outputs": [
    {
     "name": "stdout",
     "output_type": "stream",
     "text": [
      "3 Fiz\n",
      "5 Buzz\n",
      "6 Fiz\n",
      "9 Fiz\n",
      "10 Buzz\n",
      "12 Fiz\n",
      "15 FizzBuzz\n",
      "18 Fiz\n",
      "20 Buzz\n",
      "21 Fiz\n",
      "24 Fiz\n",
      "25 Buzz\n",
      "27 Fiz\n",
      "30 FizzBuzz\n",
      "33 Fiz\n",
      "35 Buzz\n",
      "36 Fiz\n",
      "39 Fiz\n",
      "40 Buzz\n",
      "42 Fiz\n",
      "45 FizzBuzz\n",
      "48 Fiz\n",
      "50 Buzz\n",
      "51 Fiz\n",
      "54 Fiz\n",
      "55 Buzz\n",
      "57 Fiz\n",
      "60 FizzBuzz\n",
      "63 Fiz\n",
      "65 Buzz\n",
      "66 Fiz\n",
      "69 Fiz\n",
      "70 Buzz\n",
      "72 Fiz\n",
      "75 FizzBuzz\n",
      "78 Fiz\n",
      "80 Buzz\n",
      "81 Fiz\n",
      "84 Fiz\n",
      "85 Buzz\n",
      "87 Fiz\n",
      "90 FizzBuzz\n",
      "93 Fiz\n",
      "95 Buzz\n",
      "96 Fiz\n",
      "99 Fiz\n"
     ]
    }
   ],
   "source": [
    "#Code in this cell\n",
    "for num in range(1,100):\n",
    "    if(num%3 ==0 and  num%5 ==0):\n",
    "        print(num,\"FizzBuzz\")\n",
    "    elif(num%3==0):\n",
    "        print(num,\"Fiz\")\n",
    "    elif(num%5==0):\n",
    "        print(num,\"Buzz\")\n",
    "    #else:\n",
    "     #   print(num)"
   ]
  },
  {
   "cell_type": "markdown",
   "metadata": {},
   "source": [
    "____\n",
    "**Use List Comprehension to create a list of the first letters of every word in the string below:**"
   ]
  },
  {
   "cell_type": "code",
   "execution_count": 21,
   "metadata": {},
   "outputs": [],
   "source": [
    "st = 'Create a list of the first letters of every word in this string'"
   ]
  },
  {
   "cell_type": "code",
   "execution_count": 26,
   "metadata": {},
   "outputs": [
    {
     "data": {
      "text/plain": [
       "['C', 'a', 'l', 'o', 't', 'f', 'l', 'o', 'e', 'w', 'i', 't', 's']"
      ]
     },
     "execution_count": 26,
     "metadata": {},
     "output_type": "execute_result"
    }
   ],
   "source": [
    "#Code in this cell\n",
    "mylist = [word[0] for word in st.split()]\n",
    "mylist"
   ]
  },
  {
   "cell_type": "markdown",
   "metadata": {},
   "source": [
    "### Great Job!"
   ]
  }
 ],
 "metadata": {
  "kernelspec": {
   "display_name": "Python 3",
   "language": "python",
   "name": "python3"
  },
  "language_info": {
   "codemirror_mode": {
    "name": "ipython",
    "version": 3
   },
   "file_extension": ".py",
   "mimetype": "text/x-python",
   "name": "python",
   "nbconvert_exporter": "python",
   "pygments_lexer": "ipython3",
   "version": "3.7.1"
  }
 },
 "nbformat": 4,
 "nbformat_minor": 1
}
